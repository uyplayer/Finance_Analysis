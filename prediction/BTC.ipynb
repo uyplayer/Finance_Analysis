{
 "cells": [
  {
   "cell_type": "markdown",
   "id": "9470aa82",
   "metadata": {},
   "source": [
    "# BTC Price Prediction"
   ]
  },
  {
   "cell_type": "code",
   "execution_count": 1,
   "id": "28b089cb",
   "metadata": {},
   "outputs": [],
   "source": [
    "# from utils import *\n",
    "\n",
    "import time\n",
    "import numpy as np\n",
    "import pandas as pd\n",
    "\n",
    "from mxnet import nd, autograd, gluon\n",
    "from mxnet.gluon import nn, rnn\n",
    "import mxnet as mx\n",
    "import datetime\n",
    "import seaborn as sns\n",
    "\n",
    "import matplotlib.pyplot as plt\n",
    "%matplotlib inline\n",
    "from sklearn.decomposition import PCA\n",
    "\n",
    "import math\n",
    "import requests\n",
    "import json\n",
    "import os\n",
    "\n",
    "from sklearn.preprocessing import MinMaxScaler\n",
    "from sklearn.metrics import mean_squared_error\n",
    "from sklearn.preprocessing import StandardScaler\n",
    "\n",
    "import xgboost as xgb\n",
    "from sklearn.metrics import accuracy_score"
   ]
  },
  {
   "cell_type": "code",
   "execution_count": 2,
   "id": "f9c8b26a",
   "metadata": {},
   "outputs": [],
   "source": [
    "import warnings\n",
    "warnings.filterwarnings(\"ignore\")"
   ]
  },
  {
   "cell_type": "code",
   "execution_count": 3,
   "id": "ac8551d7",
   "metadata": {},
   "outputs": [],
   "source": [
    "context = mx.cpu()\n",
    "model_ctx = mx.cpu()\n",
    "mx.random.seed(1719)"
   ]
  },
  {
   "cell_type": "markdown",
   "id": "67697f55",
   "metadata": {},
   "source": [
    "# GET Bitcoin DATA"
   ]
  },
  {
   "cell_type": "code",
   "execution_count": 4,
   "id": "15e34767",
   "metadata": {},
   "outputs": [],
   "source": [
    "#data convert \n",
    "def parser(t):\n",
    "     return datetime.datetime.strptime(t, \"%Y-%m-%d\")"
   ]
  },
  {
   "cell_type": "code",
   "execution_count": 5,
   "id": "8e71e66f",
   "metadata": {},
   "outputs": [
    {
     "data": {
      "text/plain": "        Date        Open        High         Low       Close   Adj Close  \\\n1 2014-09-18  456.859985  456.859985  413.104004  424.440002  424.440002   \n2 2014-09-19  424.102997  427.834991  384.532013  394.795990  394.795990   \n3 2014-09-20  394.673004  423.295990  389.882996  408.903992  408.903992   \n4 2014-09-21  408.084991  412.425995  393.181000  398.821014  398.821014   \n5 2014-09-22  399.100006  406.915985  397.130005  402.152008  402.152008   \n\n       Volume  \n1  34483200.0  \n2  37919700.0  \n3  36863600.0  \n4  26580100.0  \n5  24127600.0  ",
      "text/html": "<div>\n<style scoped>\n    .dataframe tbody tr th:only-of-type {\n        vertical-align: middle;\n    }\n\n    .dataframe tbody tr th {\n        vertical-align: top;\n    }\n\n    .dataframe thead th {\n        text-align: right;\n    }\n</style>\n<table border=\"1\" class=\"dataframe\">\n  <thead>\n    <tr style=\"text-align: right;\">\n      <th></th>\n      <th>Date</th>\n      <th>Open</th>\n      <th>High</th>\n      <th>Low</th>\n      <th>Close</th>\n      <th>Adj Close</th>\n      <th>Volume</th>\n    </tr>\n  </thead>\n  <tbody>\n    <tr>\n      <th>1</th>\n      <td>2014-09-18</td>\n      <td>456.859985</td>\n      <td>456.859985</td>\n      <td>413.104004</td>\n      <td>424.440002</td>\n      <td>424.440002</td>\n      <td>34483200.0</td>\n    </tr>\n    <tr>\n      <th>2</th>\n      <td>2014-09-19</td>\n      <td>424.102997</td>\n      <td>427.834991</td>\n      <td>384.532013</td>\n      <td>394.795990</td>\n      <td>394.795990</td>\n      <td>37919700.0</td>\n    </tr>\n    <tr>\n      <th>3</th>\n      <td>2014-09-20</td>\n      <td>394.673004</td>\n      <td>423.295990</td>\n      <td>389.882996</td>\n      <td>408.903992</td>\n      <td>408.903992</td>\n      <td>36863600.0</td>\n    </tr>\n    <tr>\n      <th>4</th>\n      <td>2014-09-21</td>\n      <td>408.084991</td>\n      <td>412.425995</td>\n      <td>393.181000</td>\n      <td>398.821014</td>\n      <td>398.821014</td>\n      <td>26580100.0</td>\n    </tr>\n    <tr>\n      <th>5</th>\n      <td>2014-09-22</td>\n      <td>399.100006</td>\n      <td>406.915985</td>\n      <td>397.130005</td>\n      <td>402.152008</td>\n      <td>402.152008</td>\n      <td>24127600.0</td>\n    </tr>\n  </tbody>\n</table>\n</div>"
     },
     "execution_count": 5,
     "metadata": {},
     "output_type": "execute_result"
    }
   ],
   "source": [
    "btc_df= pd.read_csv('../data/BTC-USD.csv', header=0, parse_dates=[0], date_parser=parser)\n",
    "# btc_df=btc_df.set_index('Date')\n",
    "btc_df = btc_df[(btc_df['Date'] > '2014-09-17') & (btc_df['Date'] <= '2021-05-05')]\n",
    "btc_df.head()"
   ]
  },
  {
   "cell_type": "code",
   "execution_count": 6,
   "id": "eba1e0fa",
   "metadata": {},
   "outputs": [
    {
     "data": {
      "text/plain": "           Date          Open          High           Low         Close  \\\n2418 2021-05-01  57714.664063  58448.339844  57052.273438  57828.050781   \n2419 2021-05-02  57825.863281  57902.593750  56141.906250  56631.078125   \n2420 2021-05-03  56620.273438  58973.308594  56590.871094  57200.292969   \n2421 2021-05-04  57214.179688  57214.179688  53191.425781  53333.539063   \n2422 2021-05-05  53252.164063  57911.363281  52969.054688  57424.007813   \n\n         Adj Close        Volume  \n2418  57828.050781  4.283643e+10  \n2419  56631.078125  3.817741e+10  \n2420  57200.292969  5.171314e+10  \n2421  53333.539063  6.856471e+10  \n2422  57424.007813  6.924132e+10  ",
      "text/html": "<div>\n<style scoped>\n    .dataframe tbody tr th:only-of-type {\n        vertical-align: middle;\n    }\n\n    .dataframe tbody tr th {\n        vertical-align: top;\n    }\n\n    .dataframe thead th {\n        text-align: right;\n    }\n</style>\n<table border=\"1\" class=\"dataframe\">\n  <thead>\n    <tr style=\"text-align: right;\">\n      <th></th>\n      <th>Date</th>\n      <th>Open</th>\n      <th>High</th>\n      <th>Low</th>\n      <th>Close</th>\n      <th>Adj Close</th>\n      <th>Volume</th>\n    </tr>\n  </thead>\n  <tbody>\n    <tr>\n      <th>2418</th>\n      <td>2021-05-01</td>\n      <td>57714.664063</td>\n      <td>58448.339844</td>\n      <td>57052.273438</td>\n      <td>57828.050781</td>\n      <td>57828.050781</td>\n      <td>4.283643e+10</td>\n    </tr>\n    <tr>\n      <th>2419</th>\n      <td>2021-05-02</td>\n      <td>57825.863281</td>\n      <td>57902.593750</td>\n      <td>56141.906250</td>\n      <td>56631.078125</td>\n      <td>56631.078125</td>\n      <td>3.817741e+10</td>\n    </tr>\n    <tr>\n      <th>2420</th>\n      <td>2021-05-03</td>\n      <td>56620.273438</td>\n      <td>58973.308594</td>\n      <td>56590.871094</td>\n      <td>57200.292969</td>\n      <td>57200.292969</td>\n      <td>5.171314e+10</td>\n    </tr>\n    <tr>\n      <th>2421</th>\n      <td>2021-05-04</td>\n      <td>57214.179688</td>\n      <td>57214.179688</td>\n      <td>53191.425781</td>\n      <td>53333.539063</td>\n      <td>53333.539063</td>\n      <td>6.856471e+10</td>\n    </tr>\n    <tr>\n      <th>2422</th>\n      <td>2021-05-05</td>\n      <td>53252.164063</td>\n      <td>57911.363281</td>\n      <td>52969.054688</td>\n      <td>57424.007813</td>\n      <td>57424.007813</td>\n      <td>6.924132e+10</td>\n    </tr>\n  </tbody>\n</table>\n</div>"
     },
     "execution_count": 6,
     "metadata": {},
     "output_type": "execute_result"
    }
   ],
   "source": [
    "btc_df.tail()"
   ]
  },
  {
   "cell_type": "code",
   "execution_count": 7,
   "id": "ed2e42b3",
   "metadata": {},
   "outputs": [
    {
     "name": "stdout",
     "output_type": "stream",
     "text": [
      "number of day in file :  2422\n"
     ]
    }
   ],
   "source": [
    "# number of data\n",
    "print(\"number of day in file : \",len(btc_df))"
   ]
  },
  {
   "cell_type": "code",
   "execution_count": 8,
   "id": "79f2acc1",
   "metadata": {},
   "outputs": [
    {
     "data": {
      "text/plain": "           Date          Open          High           Low         Close  \\\n1    2014-09-18    456.859985    456.859985    413.104004    424.440002   \n2    2014-09-19    424.102997    427.834991    384.532013    394.795990   \n3    2014-09-20    394.673004    423.295990    389.882996    408.903992   \n4    2014-09-21    408.084991    412.425995    393.181000    398.821014   \n5    2014-09-22    399.100006    406.915985    397.130005    402.152008   \n...         ...           ...           ...           ...           ...   \n2418 2021-05-01  57714.664063  58448.339844  57052.273438  57828.050781   \n2419 2021-05-02  57825.863281  57902.593750  56141.906250  56631.078125   \n2420 2021-05-03  56620.273438  58973.308594  56590.871094  57200.292969   \n2421 2021-05-04  57214.179688  57214.179688  53191.425781  53333.539063   \n2422 2021-05-05  53252.164063  57911.363281  52969.054688  57424.007813   \n\n         Adj Close        Volume  \n1       424.440002  3.448320e+07  \n2       394.795990  3.791970e+07  \n3       408.903992  3.686360e+07  \n4       398.821014  2.658010e+07  \n5       402.152008  2.412760e+07  \n...            ...           ...  \n2418  57828.050781  4.283643e+10  \n2419  56631.078125  3.817741e+10  \n2420  57200.292969  5.171314e+10  \n2421  53333.539063  6.856471e+10  \n2422  57424.007813  6.924132e+10  \n\n[2422 rows x 7 columns]",
      "text/html": "<div>\n<style scoped>\n    .dataframe tbody tr th:only-of-type {\n        vertical-align: middle;\n    }\n\n    .dataframe tbody tr th {\n        vertical-align: top;\n    }\n\n    .dataframe thead th {\n        text-align: right;\n    }\n</style>\n<table border=\"1\" class=\"dataframe\">\n  <thead>\n    <tr style=\"text-align: right;\">\n      <th></th>\n      <th>Date</th>\n      <th>Open</th>\n      <th>High</th>\n      <th>Low</th>\n      <th>Close</th>\n      <th>Adj Close</th>\n      <th>Volume</th>\n    </tr>\n  </thead>\n  <tbody>\n    <tr>\n      <th>1</th>\n      <td>2014-09-18</td>\n      <td>456.859985</td>\n      <td>456.859985</td>\n      <td>413.104004</td>\n      <td>424.440002</td>\n      <td>424.440002</td>\n      <td>3.448320e+07</td>\n    </tr>\n    <tr>\n      <th>2</th>\n      <td>2014-09-19</td>\n      <td>424.102997</td>\n      <td>427.834991</td>\n      <td>384.532013</td>\n      <td>394.795990</td>\n      <td>394.795990</td>\n      <td>3.791970e+07</td>\n    </tr>\n    <tr>\n      <th>3</th>\n      <td>2014-09-20</td>\n      <td>394.673004</td>\n      <td>423.295990</td>\n      <td>389.882996</td>\n      <td>408.903992</td>\n      <td>408.903992</td>\n      <td>3.686360e+07</td>\n    </tr>\n    <tr>\n      <th>4</th>\n      <td>2014-09-21</td>\n      <td>408.084991</td>\n      <td>412.425995</td>\n      <td>393.181000</td>\n      <td>398.821014</td>\n      <td>398.821014</td>\n      <td>2.658010e+07</td>\n    </tr>\n    <tr>\n      <th>5</th>\n      <td>2014-09-22</td>\n      <td>399.100006</td>\n      <td>406.915985</td>\n      <td>397.130005</td>\n      <td>402.152008</td>\n      <td>402.152008</td>\n      <td>2.412760e+07</td>\n    </tr>\n    <tr>\n      <th>...</th>\n      <td>...</td>\n      <td>...</td>\n      <td>...</td>\n      <td>...</td>\n      <td>...</td>\n      <td>...</td>\n      <td>...</td>\n    </tr>\n    <tr>\n      <th>2418</th>\n      <td>2021-05-01</td>\n      <td>57714.664063</td>\n      <td>58448.339844</td>\n      <td>57052.273438</td>\n      <td>57828.050781</td>\n      <td>57828.050781</td>\n      <td>4.283643e+10</td>\n    </tr>\n    <tr>\n      <th>2419</th>\n      <td>2021-05-02</td>\n      <td>57825.863281</td>\n      <td>57902.593750</td>\n      <td>56141.906250</td>\n      <td>56631.078125</td>\n      <td>56631.078125</td>\n      <td>3.817741e+10</td>\n    </tr>\n    <tr>\n      <th>2420</th>\n      <td>2021-05-03</td>\n      <td>56620.273438</td>\n      <td>58973.308594</td>\n      <td>56590.871094</td>\n      <td>57200.292969</td>\n      <td>57200.292969</td>\n      <td>5.171314e+10</td>\n    </tr>\n    <tr>\n      <th>2421</th>\n      <td>2021-05-04</td>\n      <td>57214.179688</td>\n      <td>57214.179688</td>\n      <td>53191.425781</td>\n      <td>53333.539063</td>\n      <td>53333.539063</td>\n      <td>6.856471e+10</td>\n    </tr>\n    <tr>\n      <th>2422</th>\n      <td>2021-05-05</td>\n      <td>53252.164063</td>\n      <td>57911.363281</td>\n      <td>52969.054688</td>\n      <td>57424.007813</td>\n      <td>57424.007813</td>\n      <td>6.924132e+10</td>\n    </tr>\n  </tbody>\n</table>\n<p>2422 rows × 7 columns</p>\n</div>"
     },
     "execution_count": 8,
     "metadata": {},
     "output_type": "execute_result"
    }
   ],
   "source": [
    "btc_df"
   ]
  },
  {
   "cell_type": "code",
   "execution_count": 9,
   "id": "029f3d88",
   "metadata": {},
   "outputs": [
    {
     "data": {
      "text/plain": "<Figure size 1008x360 with 1 Axes>",
      "image/png": "[encoded data removed]"
     },
     "metadata": {
      "needs_background": "light"
     },
     "output_type": "display_data"
    }
   ],
   "source": [
    "y_height = max(btc_df['Close'])\n",
    "plt.figure(figsize=(14,5))\n",
    "plt.plot(btc_df['Date'], btc_df['Close'], label='Bitcoin Close proce')\n",
    "plt.vlines(datetime.date(2021,4, 1), 0, y_height, linestyles='--', colors='gray', label='Train/Test data cut-off')\n",
    "plt.xlabel('Date')\n",
    "plt.ylabel('Price')\n",
    "plt.title('Bitcoin price')\n",
    "plt.legend()\n",
    "plt.show()"
   ]
  },
  {
   "cell_type": "code",
   "execution_count": 10,
   "id": "b03a3d9a",
   "metadata": {},
   "outputs": [
    {
     "name": "stdout",
     "output_type": "stream",
     "text": [
      "Number of training days: 2361. Number of test days: 61.\n"
     ]
    }
   ],
   "source": [
    "num_training_days = int(btc_df.shape[0]*.975)\n",
    "print('Number of training days: {}. Number of test days: {}.'.format(num_training_days, \\\n",
    "                                                                    btc_df.shape[0]-num_training_days))"
   ]
  },
  {
   "cell_type": "markdown",
   "id": "89209583",
   "metadata": {},
   "source": [
    "# Correlated assets"
   ]
  },
  {
   "cell_type": "code",
   "execution_count": 11,
   "id": "669205e2",
   "metadata": {},
   "outputs": [
    {
     "name": "stdout",
     "output_type": "stream",
     "text": [
      "Bitcoin price volatility.csv\n",
      "ETH-USD.csv\n",
      ".DS_Store\n",
      "market_dominance_data.csv\n",
      "market_dominance_data.json\n",
      "Bitcoin network hashrate.csv\n",
      "Bitcoin trading volume.csv\n",
      "Blockchain blocks size.csv\n",
      "Bitcoin mining difficulty.csv\n",
      "SP500.csv\n",
      "LTC-USD.csv\n"
     ]
    }
   ],
   "source": [
    "# list all files \n",
    "for file in os.listdir(\"../data/correlated assets/\"):\n",
    "    print(file)"
   ]
  },
  {
   "cell_type": "markdown",
   "id": "d329498c",
   "metadata": {},
   "source": [
    "### get assets "
   ]
  },
  {
   "cell_type": "code",
   "execution_count": 12,
   "id": "64ec245c",
   "metadata": {},
   "outputs": [
    {
     "data": {
      "text/plain": "         Date      Open     High       Low     Close  Adj Close    Volume\n0  2015-08-07  2.831620  3.53661  2.521120  2.772120   2.772120  164329.0\n1  2015-08-08  2.793760  2.79881  0.714725  0.753325   0.753325  674188.0\n2  2015-08-09  0.706136  0.87981  0.629191  0.701897   0.701897  532170.0",
      "text/html": "<div>\n<style scoped>\n    .dataframe tbody tr th:only-of-type {\n        vertical-align: middle;\n    }\n\n    .dataframe tbody tr th {\n        vertical-align: top;\n    }\n\n    .dataframe thead th {\n        text-align: right;\n    }\n</style>\n<table border=\"1\" class=\"dataframe\">\n  <thead>\n    <tr style=\"text-align: right;\">\n      <th></th>\n      <th>Date</th>\n      <th>Open</th>\n      <th>High</th>\n      <th>Low</th>\n      <th>Close</th>\n      <th>Adj Close</th>\n      <th>Volume</th>\n    </tr>\n  </thead>\n  <tbody>\n    <tr>\n      <th>0</th>\n      <td>2015-08-07</td>\n      <td>2.831620</td>\n      <td>3.53661</td>\n      <td>2.521120</td>\n      <td>2.772120</td>\n      <td>2.772120</td>\n      <td>164329.0</td>\n    </tr>\n    <tr>\n      <th>1</th>\n      <td>2015-08-08</td>\n      <td>2.793760</td>\n      <td>2.79881</td>\n      <td>0.714725</td>\n      <td>0.753325</td>\n      <td>0.753325</td>\n      <td>674188.0</td>\n    </tr>\n    <tr>\n      <th>2</th>\n      <td>2015-08-09</td>\n      <td>0.706136</td>\n      <td>0.87981</td>\n      <td>0.629191</td>\n      <td>0.701897</td>\n      <td>0.701897</td>\n      <td>532170.0</td>\n    </tr>\n  </tbody>\n</table>\n</div>"
     },
     "execution_count": 12,
     "metadata": {},
     "output_type": "execute_result"
    }
   ],
   "source": [
    "# ETH\n",
    "eth_df= pd.read_csv('../data/correlated assets/ETH-USD.csv', header=0)\n",
    "# eth_df=eth_df.set_index('Date')\n",
    "# eth_df = eth_df.loc[\"2014-09-17\":\"2021-05-05\"]\n",
    "# btc_df=btc_df.set_index('Date')\n",
    "eth_df = eth_df[(eth_df['Date'] > '2014-09-17') & (eth_df['Date'] <= '2021-05-05')]\n",
    "eth_df.head(3)"
   ]
  },
  {
   "cell_type": "code",
   "execution_count": 13,
   "id": "bab56b7c",
   "metadata": {},
   "outputs": [
    {
     "data": {
      "text/plain": "            Date         Open         High          Low        Close  \\\n2096  2021-05-03  2951.175781  3450.037842  2951.175781  3431.086182   \n2097  2021-05-04  3431.131592  3523.585938  3180.742676  3253.629395   \n2098  2021-05-05  3240.554688  3541.462646  3213.101563  3522.783203   \n\n        Adj Close        Volume  \n2096  3431.086182  4.917429e+10  \n2097  3253.629395  6.240205e+10  \n2098  3522.783203  4.833420e+10  ",
      "text/html": "<div>\n<style scoped>\n    .dataframe tbody tr th:only-of-type {\n        vertical-align: middle;\n    }\n\n    .dataframe tbody tr th {\n        vertical-align: top;\n    }\n\n    .dataframe thead th {\n        text-align: right;\n    }\n</style>\n<table border=\"1\" class=\"dataframe\">\n  <thead>\n    <tr style=\"text-align: right;\">\n      <th></th>\n      <th>Date</th>\n      <th>Open</th>\n      <th>High</th>\n      <th>Low</th>\n      <th>Close</th>\n      <th>Adj Close</th>\n      <th>Volume</th>\n    </tr>\n  </thead>\n  <tbody>\n    <tr>\n      <th>2096</th>\n      <td>2021-05-03</td>\n      <td>2951.175781</td>\n      <td>3450.037842</td>\n      <td>2951.175781</td>\n      <td>3431.086182</td>\n      <td>3431.086182</td>\n      <td>4.917429e+10</td>\n    </tr>\n    <tr>\n      <th>2097</th>\n      <td>2021-05-04</td>\n      <td>3431.131592</td>\n      <td>3523.585938</td>\n      <td>3180.742676</td>\n      <td>3253.629395</td>\n      <td>3253.629395</td>\n      <td>6.240205e+10</td>\n    </tr>\n    <tr>\n      <th>2098</th>\n      <td>2021-05-05</td>\n      <td>3240.554688</td>\n      <td>3541.462646</td>\n      <td>3213.101563</td>\n      <td>3522.783203</td>\n      <td>3522.783203</td>\n      <td>4.833420e+10</td>\n    </tr>\n  </tbody>\n</table>\n</div>"
     },
     "execution_count": 13,
     "metadata": {},
     "output_type": "execute_result"
    }
   ],
   "source": [
    "eth_df.tail(3)"
   ]
  },
  {
   "cell_type": "code",
   "execution_count": 14,
   "id": "95e19dc9",
   "metadata": {},
   "outputs": [
    {
     "data": {
      "text/plain": "         Date     Open     High      Low    Close  Adj Close     Volume\n1  2014-09-18  5.06543  5.06543  4.57996  4.68523    4.68523  4569260.0\n2  2014-09-19  4.68729  4.75582  4.25435  4.32777    4.32777  3917450.0\n3  2014-09-20  4.32920  4.61608  4.20219  4.28644    4.28644  5490660.0",
      "text/html": "<div>\n<style scoped>\n    .dataframe tbody tr th:only-of-type {\n        vertical-align: middle;\n    }\n\n    .dataframe tbody tr th {\n        vertical-align: top;\n    }\n\n    .dataframe thead th {\n        text-align: right;\n    }\n</style>\n<table border=\"1\" class=\"dataframe\">\n  <thead>\n    <tr style=\"text-align: right;\">\n      <th></th>\n      <th>Date</th>\n      <th>Open</th>\n      <th>High</th>\n      <th>Low</th>\n      <th>Close</th>\n      <th>Adj Close</th>\n      <th>Volume</th>\n    </tr>\n  </thead>\n  <tbody>\n    <tr>\n      <th>1</th>\n      <td>2014-09-18</td>\n      <td>5.06543</td>\n      <td>5.06543</td>\n      <td>4.57996</td>\n      <td>4.68523</td>\n      <td>4.68523</td>\n      <td>4569260.0</td>\n    </tr>\n    <tr>\n      <th>2</th>\n      <td>2014-09-19</td>\n      <td>4.68729</td>\n      <td>4.75582</td>\n      <td>4.25435</td>\n      <td>4.32777</td>\n      <td>4.32777</td>\n      <td>3917450.0</td>\n    </tr>\n    <tr>\n      <th>3</th>\n      <td>2014-09-20</td>\n      <td>4.32920</td>\n      <td>4.61608</td>\n      <td>4.20219</td>\n      <td>4.28644</td>\n      <td>4.28644</td>\n      <td>5490660.0</td>\n    </tr>\n  </tbody>\n</table>\n</div>"
     },
     "execution_count": 14,
     "metadata": {},
     "output_type": "execute_result"
    }
   ],
   "source": [
    "# LTC\n",
    "ltc_df= pd.read_csv('../data/correlated assets/LTC-USD.csv', header=0)\n",
    "# ltc_df=ltc_df.set_index('Date')\n",
    "# ltc_df = ltc_df.loc[\"2014-09-17\":\"2021-05-05\"]\n",
    "ltc_df = ltc_df[(ltc_df['Date'] > '2014-09-17') & (ltc_df['Date'] <= '2021-05-05')]\n",
    "ltc_df.head(3)"
   ]
  },
  {
   "cell_type": "code",
   "execution_count": 15,
   "id": "a46bd254",
   "metadata": {},
   "outputs": [
    {
     "data": {
      "text/plain": "            Date        Open        High         Low       Close   Adj Close  \\\n2418  2021-05-01  271.142670  278.219421  266.631409  276.833527  276.833527   \n2419  2021-05-02  276.960419  277.483459  265.335724  269.104370  269.104370   \n2420  2021-05-03  269.008301  299.300537  268.728973  294.704010  294.704010   \n2421  2021-05-04  294.774261  326.888672  275.464966  306.234497  306.234497   \n2422  2021-05-05  305.177399  359.500153  301.451569  356.037079  356.037079   \n\n            Volume  \n2418  3.611806e+09  \n2419  3.118501e+09  \n2420  5.172505e+09  \n2421  1.154125e+10  \n2422  1.318354e+10  ",
      "text/html": "<div>\n<style scoped>\n    .dataframe tbody tr th:only-of-type {\n        vertical-align: middle;\n    }\n\n    .dataframe tbody tr th {\n        vertical-align: top;\n    }\n\n    .dataframe thead th {\n        text-align: right;\n    }\n</style>\n<table border=\"1\" class=\"dataframe\">\n  <thead>\n    <tr style=\"text-align: right;\">\n      <th></th>\n      <th>Date</th>\n      <th>Open</th>\n      <th>High</th>\n      <th>Low</th>\n      <th>Close</th>\n      <th>Adj Close</th>\n      <th>Volume</th>\n    </tr>\n  </thead>\n  <tbody>\n    <tr>\n      <th>2418</th>\n      <td>2021-05-01</td>\n      <td>271.142670</td>\n      <td>278.219421</td>\n      <td>266.631409</td>\n      <td>276.833527</td>\n      <td>276.833527</td>\n      <td>3.611806e+09</td>\n    </tr>\n    <tr>\n      <th>2419</th>\n      <td>2021-05-02</td>\n      <td>276.960419</td>\n      <td>277.483459</td>\n      <td>265.335724</td>\n      <td>269.104370</td>\n      <td>269.104370</td>\n      <td>3.118501e+09</td>\n    </tr>\n    <tr>\n      <th>2420</th>\n      <td>2021-05-03</td>\n      <td>269.008301</td>\n      <td>299.300537</td>\n      <td>268.728973</td>\n      <td>294.704010</td>\n      <td>294.704010</td>\n      <td>5.172505e+09</td>\n    </tr>\n    <tr>\n      <th>2421</th>\n      <td>2021-05-04</td>\n      <td>294.774261</td>\n      <td>326.888672</td>\n      <td>275.464966</td>\n      <td>306.234497</td>\n      <td>306.234497</td>\n      <td>1.154125e+10</td>\n    </tr>\n    <tr>\n      <th>2422</th>\n      <td>2021-05-05</td>\n      <td>305.177399</td>\n      <td>359.500153</td>\n      <td>301.451569</td>\n      <td>356.037079</td>\n      <td>356.037079</td>\n      <td>1.318354e+10</td>\n    </tr>\n  </tbody>\n</table>\n</div>"
     },
     "execution_count": 15,
     "metadata": {},
     "output_type": "execute_result"
    }
   ],
   "source": [
    "ltc_df.tail()"
   ]
  },
  {
   "cell_type": "code",
   "execution_count": 16,
   "id": "f47275cd",
   "metadata": {},
   "outputs": [
    {
     "data": {
      "text/plain": "             Date     Open     High      Low    Close        Volume\n36766  2014-09-18  2003.07  2012.34  2003.07  2011.36  1.797411e+09\n36767  2014-09-19  2012.74  2019.26  2006.59  2010.40  2.711233e+09\n36768  2014-09-22  2009.08  2009.08  1991.01  1994.29  1.860928e+09",
      "text/html": "<div>\n<style scoped>\n    .dataframe tbody tr th:only-of-type {\n        vertical-align: middle;\n    }\n\n    .dataframe tbody tr th {\n        vertical-align: top;\n    }\n\n    .dataframe thead th {\n        text-align: right;\n    }\n</style>\n<table border=\"1\" class=\"dataframe\">\n  <thead>\n    <tr style=\"text-align: right;\">\n      <th></th>\n      <th>Date</th>\n      <th>Open</th>\n      <th>High</th>\n      <th>Low</th>\n      <th>Close</th>\n      <th>Volume</th>\n    </tr>\n  </thead>\n  <tbody>\n    <tr>\n      <th>36766</th>\n      <td>2014-09-18</td>\n      <td>2003.07</td>\n      <td>2012.34</td>\n      <td>2003.07</td>\n      <td>2011.36</td>\n      <td>1.797411e+09</td>\n    </tr>\n    <tr>\n      <th>36767</th>\n      <td>2014-09-19</td>\n      <td>2012.74</td>\n      <td>2019.26</td>\n      <td>2006.59</td>\n      <td>2010.40</td>\n      <td>2.711233e+09</td>\n    </tr>\n    <tr>\n      <th>36768</th>\n      <td>2014-09-22</td>\n      <td>2009.08</td>\n      <td>2009.08</td>\n      <td>1991.01</td>\n      <td>1994.29</td>\n      <td>1.860928e+09</td>\n    </tr>\n  </tbody>\n</table>\n</div>"
     },
     "execution_count": 16,
     "metadata": {},
     "output_type": "execute_result"
    }
   ],
   "source": [
    "# sp500\n",
    "sp500_df= pd.read_csv('../data/correlated assets/SP500.csv', header=0)\n",
    "# sp500_df=sp500_df.set_index('Date')\n",
    "# sp500_df = sp500_df.loc[\"2014-09-17\":\"2021-05-05\"]\n",
    "sp500_df = sp500_df[(sp500_df['Date'] > '2014-09-17') & (sp500_df['Date'] <= '2021-05-05')]\n",
    "sp500_df.head(3)"
   ]
  },
  {
   "cell_type": "code",
   "execution_count": 17,
   "id": "23821827",
   "metadata": {},
   "outputs": [
    {
     "data": {
      "text/plain": "             Date     Open     High      Low    Close        Volume\n38432  2021-05-03  4191.98  4209.39  4188.03  4192.66  2.182103e+09\n38433  2021-05-04  4179.04  4179.04  4128.59  4164.66  2.552420e+09\n38434  2021-05-05  4177.06  4187.72  4160.94  4167.59  1.769153e+09",
      "text/html": "<div>\n<style scoped>\n    .dataframe tbody tr th:only-of-type {\n        vertical-align: middle;\n    }\n\n    .dataframe tbody tr th {\n        vertical-align: top;\n    }\n\n    .dataframe thead th {\n        text-align: right;\n    }\n</style>\n<table border=\"1\" class=\"dataframe\">\n  <thead>\n    <tr style=\"text-align: right;\">\n      <th></th>\n      <th>Date</th>\n      <th>Open</th>\n      <th>High</th>\n      <th>Low</th>\n      <th>Close</th>\n      <th>Volume</th>\n    </tr>\n  </thead>\n  <tbody>\n    <tr>\n      <th>38432</th>\n      <td>2021-05-03</td>\n      <td>4191.98</td>\n      <td>4209.39</td>\n      <td>4188.03</td>\n      <td>4192.66</td>\n      <td>2.182103e+09</td>\n    </tr>\n    <tr>\n      <th>38433</th>\n      <td>2021-05-04</td>\n      <td>4179.04</td>\n      <td>4179.04</td>\n      <td>4128.59</td>\n      <td>4164.66</td>\n      <td>2.552420e+09</td>\n    </tr>\n    <tr>\n      <th>38434</th>\n      <td>2021-05-05</td>\n      <td>4177.06</td>\n      <td>4187.72</td>\n      <td>4160.94</td>\n      <td>4167.59</td>\n      <td>1.769153e+09</td>\n    </tr>\n  </tbody>\n</table>\n</div>"
     },
     "execution_count": 17,
     "metadata": {},
     "output_type": "execute_result"
    }
   ],
   "source": [
    "sp500_df.tail(3)"
   ]
  },
  {
   "cell_type": "code",
   "execution_count": 18,
   "id": "c2e29eeb",
   "metadata": {},
   "outputs": [
    {
     "data": {
      "text/plain": "            Date  market_dominance\n2909  2021-05-03             46.02\n2910  2021-05-04             44.57\n2911  2021-05-05             43.47",
      "text/html": "<div>\n<style scoped>\n    .dataframe tbody tr th:only-of-type {\n        vertical-align: middle;\n    }\n\n    .dataframe tbody tr th {\n        vertical-align: top;\n    }\n\n    .dataframe thead th {\n        text-align: right;\n    }\n</style>\n<table border=\"1\" class=\"dataframe\">\n  <thead>\n    <tr style=\"text-align: right;\">\n      <th></th>\n      <th>Date</th>\n      <th>market_dominance</th>\n    </tr>\n  </thead>\n  <tbody>\n    <tr>\n      <th>2909</th>\n      <td>2021-05-03</td>\n      <td>46.02</td>\n    </tr>\n    <tr>\n      <th>2910</th>\n      <td>2021-05-04</td>\n      <td>44.57</td>\n    </tr>\n    <tr>\n      <th>2911</th>\n      <td>2021-05-05</td>\n      <td>43.47</td>\n    </tr>\n  </tbody>\n</table>\n</div>"
     },
     "execution_count": 18,
     "metadata": {},
     "output_type": "execute_result"
    }
   ],
   "source": [
    "# Bitcoin market capitalization.csv \n",
    "def capitalizatio_time(t):\n",
    "    return t.replace(\"00:00:00 UTC\",\"\")\n",
    "bmc_df= pd.read_csv('../data/correlated assets/market_dominance_data.csv', header=0)\n",
    "# bmc_df['Time'] = bmc_df['Time'].apply(lambda x:capitalizatio_time(x))\n",
    "# bmc_df.columns = ['Date', 'capitalization']\n",
    "# bmc_df=bmc_df.set_index('Date')\n",
    "bmc_df = bmc_df[(bmc_df['Date'] > '2014-09-17') & (bmc_df['Date'] <= '2021-05-05')]\n",
    "bmc_df.tail(3)"
   ]
  },
  {
   "cell_type": "code",
   "execution_count": 19,
   "id": "e846105c",
   "metadata": {},
   "outputs": [
    {
     "data": {
      "text/plain": "             Date           size\n4098  2020-03-30   729406.659864\n4099  2020-03-31   704292.993711\n4100  2020-04-01   490646.250000",
      "text/html": "<div>\n<style scoped>\n    .dataframe tbody tr th:only-of-type {\n        vertical-align: middle;\n    }\n\n    .dataframe tbody tr th {\n        vertical-align: top;\n    }\n\n    .dataframe thead th {\n        text-align: right;\n    }\n</style>\n<table border=\"1\" class=\"dataframe\">\n  <thead>\n    <tr style=\"text-align: right;\">\n      <th></th>\n      <th>Date</th>\n      <th>size</th>\n    </tr>\n  </thead>\n  <tbody>\n    <tr>\n      <th>4098</th>\n      <td>2020-03-30</td>\n      <td>729406.659864</td>\n    </tr>\n    <tr>\n      <th>4099</th>\n      <td>2020-03-31</td>\n      <td>704292.993711</td>\n    </tr>\n    <tr>\n      <th>4100</th>\n      <td>2020-04-01</td>\n      <td>490646.250000</td>\n    </tr>\n  </tbody>\n</table>\n</div>"
     },
     "execution_count": 19,
     "metadata": {},
     "output_type": "execute_result"
    }
   ],
   "source": [
    "def blocks_time(t):\n",
    "    return t.replace(\"00:00:00 UTC\",\"\")\n",
    "    \n",
    "# Blockchain blocks size\n",
    "bbs_df= pd.read_csv('../data/correlated assets/Blockchain blocks size.csv', header=0)\n",
    "bbs_df['Time'] = bbs_df['Time'].apply(lambda x:blocks_time(x))\n",
    "bbs_df.columns = ['Date', 'size']\n",
    "# bbs_df=bbs_df.set_index('Date')\n",
    "bbs_df = bbs_df[(bbs_df['Date'] > '2014-09-17') & (bbs_df['Date'] <= '2021-05-05')]\n",
    "bbs_df.tail(3)"
   ]
  },
  {
   "cell_type": "code",
   "execution_count": 20,
   "id": "6c78c0f5",
   "metadata": {},
   "outputs": [
    {
     "data": {
      "text/plain": "             Date  50BTC.com       AntPool  BTC Guild       BTC.TOP  \\\n4098  2020-03-30         NaN  1.109364e+19        NaN  2.080058e+18   \n4099  2020-03-31         NaN  1.247847e+19        NaN  6.932482e+17   \n4100  2020-04-01         NaN  6.116053e+18        NaN  6.116053e+18   \n\n      BTCC Pool  BW.COM  BitFury  BitMinter  Eligius        F2Pool  \\\n4098        NaN     NaN      NaN        NaN      NaN  1.664047e+19   \n4099        NaN     NaN      NaN        NaN      NaN  2.149069e+19   \n4100        NaN     NaN      NaN        NaN      NaN  1.834816e+19   \n\n         SlushPool       Unknown        ViaBTC  ghash.io  others  \n4098  4.853469e+18  6.170840e+19  5.546822e+18       NaN     NaN  \n4099  5.545986e+18  6.377883e+19  6.239234e+18       NaN     NaN  \n4100  6.116053e+18  8.562474e+19           NaN       NaN     NaN  ",
      "text/html": "<div>\n<style scoped>\n    .dataframe tbody tr th:only-of-type {\n        vertical-align: middle;\n    }\n\n    .dataframe tbody tr th {\n        vertical-align: top;\n    }\n\n    .dataframe thead th {\n        text-align: right;\n    }\n</style>\n<table border=\"1\" class=\"dataframe\">\n  <thead>\n    <tr style=\"text-align: right;\">\n      <th></th>\n      <th>Date</th>\n      <th>50BTC.com</th>\n      <th>AntPool</th>\n      <th>BTC Guild</th>\n      <th>BTC.TOP</th>\n      <th>BTCC Pool</th>\n      <th>BW.COM</th>\n      <th>BitFury</th>\n      <th>BitMinter</th>\n      <th>Eligius</th>\n      <th>F2Pool</th>\n      <th>SlushPool</th>\n      <th>Unknown</th>\n      <th>ViaBTC</th>\n      <th>ghash.io</th>\n      <th>others</th>\n    </tr>\n  </thead>\n  <tbody>\n    <tr>\n      <th>4098</th>\n      <td>2020-03-30</td>\n      <td>NaN</td>\n      <td>1.109364e+19</td>\n      <td>NaN</td>\n      <td>2.080058e+18</td>\n      <td>NaN</td>\n      <td>NaN</td>\n      <td>NaN</td>\n      <td>NaN</td>\n      <td>NaN</td>\n      <td>1.664047e+19</td>\n      <td>4.853469e+18</td>\n      <td>6.170840e+19</td>\n      <td>5.546822e+18</td>\n      <td>NaN</td>\n      <td>NaN</td>\n    </tr>\n    <tr>\n      <th>4099</th>\n      <td>2020-03-31</td>\n      <td>NaN</td>\n      <td>1.247847e+19</td>\n      <td>NaN</td>\n      <td>6.932482e+17</td>\n      <td>NaN</td>\n      <td>NaN</td>\n      <td>NaN</td>\n      <td>NaN</td>\n      <td>NaN</td>\n      <td>2.149069e+19</td>\n      <td>5.545986e+18</td>\n      <td>6.377883e+19</td>\n      <td>6.239234e+18</td>\n      <td>NaN</td>\n      <td>NaN</td>\n    </tr>\n    <tr>\n      <th>4100</th>\n      <td>2020-04-01</td>\n      <td>NaN</td>\n      <td>6.116053e+18</td>\n      <td>NaN</td>\n      <td>6.116053e+18</td>\n      <td>NaN</td>\n      <td>NaN</td>\n      <td>NaN</td>\n      <td>NaN</td>\n      <td>NaN</td>\n      <td>1.834816e+19</td>\n      <td>6.116053e+18</td>\n      <td>8.562474e+19</td>\n      <td>NaN</td>\n      <td>NaN</td>\n      <td>NaN</td>\n    </tr>\n  </tbody>\n</table>\n</div>"
     },
     "execution_count": 20,
     "metadata": {},
     "output_type": "execute_result"
    }
   ],
   "source": [
    "# Bitcoin network hashrate.csv\n",
    "def hashrate(t):\n",
    "    return t.replace(\"00:00:00 UTC\",\"\")\n",
    "bnh_df= pd.read_csv('../data/correlated assets/Bitcoin network hashrate.csv', header=0)\n",
    "bnh_df['Time'] = bnh_df['Time'].apply(lambda x:blocks_time(x))\n",
    "bnh_df=bnh_df.rename(columns={'Time': 'Date'})\n",
    "# bnh_df=bnh_df.set_index('Date')\n",
    "bnh_df = bnh_df[(bnh_df['Date'] > '2014-09-17') & (bnh_df['Date'] <= '2021-05-05')]\n",
    "bnh_df.tail(3)"
   ]
  },
  {
   "cell_type": "code",
   "execution_count": 21,
   "id": "b4568a2f",
   "metadata": {},
   "outputs": [
    {
     "data": {
      "text/plain": "             Date      bitfinex     bitstamp  btcchina      coinbase  huobi  \\\n3942  2021-05-02    4136.125341  2979.898592       NaN   8909.099528    NaN   \n3943  2021-05-03    7574.380747  5546.526207       NaN  17395.504432    NaN   \n3944  2021-05-04   10050.894873  9334.800650       NaN  27140.318810    NaN   \n\n            kraken  lakebtc  mtgox  okcoin       others  \n3942   4158.370334      NaN    NaN     NaN  2493.361987  \n3943   7497.584522      NaN    NaN     NaN  4262.713938  \n3944  11535.381771      NaN    NaN     NaN  6581.053893  ",
      "text/html": "<div>\n<style scoped>\n    .dataframe tbody tr th:only-of-type {\n        vertical-align: middle;\n    }\n\n    .dataframe tbody tr th {\n        vertical-align: top;\n    }\n\n    .dataframe thead th {\n        text-align: right;\n    }\n</style>\n<table border=\"1\" class=\"dataframe\">\n  <thead>\n    <tr style=\"text-align: right;\">\n      <th></th>\n      <th>Date</th>\n      <th>bitfinex</th>\n      <th>bitstamp</th>\n      <th>btcchina</th>\n      <th>coinbase</th>\n      <th>huobi</th>\n      <th>kraken</th>\n      <th>lakebtc</th>\n      <th>mtgox</th>\n      <th>okcoin</th>\n      <th>others</th>\n    </tr>\n  </thead>\n  <tbody>\n    <tr>\n      <th>3942</th>\n      <td>2021-05-02</td>\n      <td>4136.125341</td>\n      <td>2979.898592</td>\n      <td>NaN</td>\n      <td>8909.099528</td>\n      <td>NaN</td>\n      <td>4158.370334</td>\n      <td>NaN</td>\n      <td>NaN</td>\n      <td>NaN</td>\n      <td>2493.361987</td>\n    </tr>\n    <tr>\n      <th>3943</th>\n      <td>2021-05-03</td>\n      <td>7574.380747</td>\n      <td>5546.526207</td>\n      <td>NaN</td>\n      <td>17395.504432</td>\n      <td>NaN</td>\n      <td>7497.584522</td>\n      <td>NaN</td>\n      <td>NaN</td>\n      <td>NaN</td>\n      <td>4262.713938</td>\n    </tr>\n    <tr>\n      <th>3944</th>\n      <td>2021-05-04</td>\n      <td>10050.894873</td>\n      <td>9334.800650</td>\n      <td>NaN</td>\n      <td>27140.318810</td>\n      <td>NaN</td>\n      <td>11535.381771</td>\n      <td>NaN</td>\n      <td>NaN</td>\n      <td>NaN</td>\n      <td>6581.053893</td>\n    </tr>\n  </tbody>\n</table>\n</div>"
     },
     "execution_count": 21,
     "metadata": {},
     "output_type": "execute_result"
    }
   ],
   "source": [
    "# Bitcoin trading volume\n",
    "def volume(t):\n",
    "    return t.replace(\"00:00:00 UTC\",\"\")\n",
    "btv_df= pd.read_csv('../data/correlated assets/Bitcoin trading volume.csv', header=0)\n",
    "btv_df['Time'] = btv_df['Time'].apply(lambda x:volume(x))\n",
    "btv_df=btv_df.rename(columns={'Time': 'Date'})\n",
    "# btv_df=btv_df.set_index('Date')\n",
    "btv_df = btv_df[(btv_df['Date'] > '2014-09-17') & (btv_df['Date'] <= '2021-05-05')]\n",
    "btv_df.tail(3)"
   ]
  },
  {
   "cell_type": "code",
   "execution_count": 22,
   "id": "7f72d539",
   "metadata": {},
   "outputs": [
    {
     "data": {
      "text/plain": "             Date  anxbtc  bitbay  bitcoin24  bitcurex  bitfloor  btce  \\\n3911  2021-05-02      NaN     NaN        NaN       NaN       NaN   NaN   \n3912  2021-05-03      NaN     NaN        NaN       NaN       NaN   NaN   \n3913  2021-05-04      NaN     NaN        NaN       NaN       NaN   NaN   \n\n      campbx  coinsetter  gatecoin  justcoin  lakebtc  mtgox  okcoin  \\\n3911     NaN         NaN       NaN       NaN      NaN    NaN     NaN   \n3912     NaN         NaN       NaN       NaN      NaN    NaN     NaN   \n3913     NaN         NaN       NaN       NaN      NaN    NaN     NaN   \n\n          others  therocktrading  \n3911  786.964035             NaN  \n3912  140.935477             NaN  \n3913  187.732074             NaN  ",
      "text/html": "<div>\n<style scoped>\n    .dataframe tbody tr th:only-of-type {\n        vertical-align: middle;\n    }\n\n    .dataframe tbody tr th {\n        vertical-align: top;\n    }\n\n    .dataframe thead th {\n        text-align: right;\n    }\n</style>\n<table border=\"1\" class=\"dataframe\">\n  <thead>\n    <tr style=\"text-align: right;\">\n      <th></th>\n      <th>Date</th>\n      <th>anxbtc</th>\n      <th>bitbay</th>\n      <th>bitcoin24</th>\n      <th>bitcurex</th>\n      <th>bitfloor</th>\n      <th>btce</th>\n      <th>campbx</th>\n      <th>coinsetter</th>\n      <th>gatecoin</th>\n      <th>justcoin</th>\n      <th>lakebtc</th>\n      <th>mtgox</th>\n      <th>okcoin</th>\n      <th>others</th>\n      <th>therocktrading</th>\n    </tr>\n  </thead>\n  <tbody>\n    <tr>\n      <th>3911</th>\n      <td>2021-05-02</td>\n      <td>NaN</td>\n      <td>NaN</td>\n      <td>NaN</td>\n      <td>NaN</td>\n      <td>NaN</td>\n      <td>NaN</td>\n      <td>NaN</td>\n      <td>NaN</td>\n      <td>NaN</td>\n      <td>NaN</td>\n      <td>NaN</td>\n      <td>NaN</td>\n      <td>NaN</td>\n      <td>786.964035</td>\n      <td>NaN</td>\n    </tr>\n    <tr>\n      <th>3912</th>\n      <td>2021-05-03</td>\n      <td>NaN</td>\n      <td>NaN</td>\n      <td>NaN</td>\n      <td>NaN</td>\n      <td>NaN</td>\n      <td>NaN</td>\n      <td>NaN</td>\n      <td>NaN</td>\n      <td>NaN</td>\n      <td>NaN</td>\n      <td>NaN</td>\n      <td>NaN</td>\n      <td>NaN</td>\n      <td>140.935477</td>\n      <td>NaN</td>\n    </tr>\n    <tr>\n      <th>3913</th>\n      <td>2021-05-04</td>\n      <td>NaN</td>\n      <td>NaN</td>\n      <td>NaN</td>\n      <td>NaN</td>\n      <td>NaN</td>\n      <td>NaN</td>\n      <td>NaN</td>\n      <td>NaN</td>\n      <td>NaN</td>\n      <td>NaN</td>\n      <td>NaN</td>\n      <td>NaN</td>\n      <td>NaN</td>\n      <td>187.732074</td>\n      <td>NaN</td>\n    </tr>\n  </tbody>\n</table>\n</div>"
     },
     "execution_count": 22,
     "metadata": {},
     "output_type": "execute_result"
    }
   ],
   "source": [
    "# Bitcoin price volatility\n",
    "def volatility(t):\n",
    "    return t.replace(\"00:00:00 UTC\",\"\")\n",
    "bpv_df= pd.read_csv('../data/correlated assets/Bitcoin price volatility.csv', header=0)\n",
    "bpv_df['Time'] = bpv_df['Time'].apply(lambda x:volatility(x))\n",
    "bpv_df=bpv_df.rename(columns={'Time': 'Date'})\n",
    "# bpv_df=bpv_df.set_index('Date')\n",
    "bpv_df = bpv_df[(bpv_df['Date'] > '2014-09-17') & (bpv_df['Date'] <= '2021-05-05')]\n",
    "bpv_df.tail(3)"
   ]
  },
  {
   "cell_type": "code",
   "execution_count": 23,
   "id": "1b4404ec",
   "metadata": {},
   "outputs": [],
   "source": [
    "def get_technical_indicators(dataset):\n",
    "    # Create 7 and 21 days Moving Average\n",
    "    dataset['ma7'] = dataset['Close'].rolling(window=7).mean()\n",
    "    dataset['ma21'] = dataset['Close'].rolling(window=21).mean()\n",
    "    \n",
    "    # Create MACD\n",
    "    dataset['26ema'] = pd.ewma(dataset['Close'], span=26)\n",
    "    dataset['12ema'] = pd.ewma(dataset['Close'], span=12)\n",
    "    dataset['MACD'] = (dataset['12ema']-dataset['26ema'])\n",
    "\n",
    "    # Create Bollinger Bands\n",
    "    dataset['20sd'] = pd.stats.moments.rolling_std(dataset['Close'],20)\n",
    "    dataset['upper_band'] = dataset['ma21'] + (dataset['20sd']*2)\n",
    "    dataset['lower_band'] = dataset['ma21'] - (dataset['20sd']*2)\n",
    "    \n",
    "    # Create Exponential moving average\n",
    "    dataset['ema'] = dataset['Close'].ewm(com=0.5).mean()\n",
    "    \n",
    "    # Create Momentum\n",
    "    dataset['momentum'] = dataset['Close']-1\n",
    "    dataset['log_momentum'] = dataset['momentum'].apply(np.log) \n",
    "    \n",
    "    return dataset"
   ]
  },
  {
   "cell_type": "code",
   "execution_count": 24,
   "id": "c70b0921",
   "metadata": {
    "scrolled": false
   },
   "outputs": [
    {
     "ename": "AttributeError",
     "evalue": "module 'pandas' has no attribute 'ewma'",
     "output_type": "error",
     "traceback": [
      "\u001B[0;31m---------------------------------------------------------------------------\u001B[0m",
      "\u001B[0;31mAttributeError\u001B[0m                            Traceback (most recent call last)",
      "\u001B[0;32m<ipython-input-24-be466effc9ac>\u001B[0m in \u001B[0;36m<module>\u001B[0;34m\u001B[0m\n\u001B[0;32m----> 1\u001B[0;31m \u001B[0mTI_df\u001B[0m \u001B[0;34m=\u001B[0m \u001B[0mget_technical_indicators\u001B[0m\u001B[0;34m(\u001B[0m\u001B[0mbtc_df\u001B[0m\u001B[0;34m)\u001B[0m\u001B[0;34m\u001B[0m\u001B[0;34m\u001B[0m\u001B[0m\n\u001B[0m\u001B[1;32m      2\u001B[0m \u001B[0mTI_df\u001B[0m\u001B[0;34m.\u001B[0m\u001B[0mhead\u001B[0m\u001B[0;34m(\u001B[0m\u001B[0;36m20\u001B[0m\u001B[0;34m)\u001B[0m\u001B[0;34m\u001B[0m\u001B[0;34m\u001B[0m\u001B[0m\n\u001B[1;32m      3\u001B[0m \u001B[0;34m\u001B[0m\u001B[0m\n",
      "\u001B[0;32m<ipython-input-23-cdbc4cafecfd>\u001B[0m in \u001B[0;36mget_technical_indicators\u001B[0;34m(dataset)\u001B[0m\n\u001B[1;32m      5\u001B[0m \u001B[0;34m\u001B[0m\u001B[0m\n\u001B[1;32m      6\u001B[0m     \u001B[0;31m# Create MACD\u001B[0m\u001B[0;34m\u001B[0m\u001B[0;34m\u001B[0m\u001B[0;34m\u001B[0m\u001B[0m\n\u001B[0;32m----> 7\u001B[0;31m     \u001B[0mdataset\u001B[0m\u001B[0;34m[\u001B[0m\u001B[0;34m'26ema'\u001B[0m\u001B[0;34m]\u001B[0m \u001B[0;34m=\u001B[0m \u001B[0mpd\u001B[0m\u001B[0;34m.\u001B[0m\u001B[0mewma\u001B[0m\u001B[0;34m(\u001B[0m\u001B[0mdataset\u001B[0m\u001B[0;34m[\u001B[0m\u001B[0;34m'Close'\u001B[0m\u001B[0;34m]\u001B[0m\u001B[0;34m,\u001B[0m \u001B[0mspan\u001B[0m\u001B[0;34m=\u001B[0m\u001B[0;36m26\u001B[0m\u001B[0;34m)\u001B[0m\u001B[0;34m\u001B[0m\u001B[0;34m\u001B[0m\u001B[0m\n\u001B[0m\u001B[1;32m      8\u001B[0m     \u001B[0mdataset\u001B[0m\u001B[0;34m[\u001B[0m\u001B[0;34m'12ema'\u001B[0m\u001B[0;34m]\u001B[0m \u001B[0;34m=\u001B[0m \u001B[0mpd\u001B[0m\u001B[0;34m.\u001B[0m\u001B[0mewma\u001B[0m\u001B[0;34m(\u001B[0m\u001B[0mdataset\u001B[0m\u001B[0;34m[\u001B[0m\u001B[0;34m'Close'\u001B[0m\u001B[0;34m]\u001B[0m\u001B[0;34m,\u001B[0m \u001B[0mspan\u001B[0m\u001B[0;34m=\u001B[0m\u001B[0;36m12\u001B[0m\u001B[0;34m)\u001B[0m\u001B[0;34m\u001B[0m\u001B[0;34m\u001B[0m\u001B[0m\n\u001B[1;32m      9\u001B[0m     \u001B[0mdataset\u001B[0m\u001B[0;34m[\u001B[0m\u001B[0;34m'MACD'\u001B[0m\u001B[0;34m]\u001B[0m \u001B[0;34m=\u001B[0m \u001B[0;34m(\u001B[0m\u001B[0mdataset\u001B[0m\u001B[0;34m[\u001B[0m\u001B[0;34m'12ema'\u001B[0m\u001B[0;34m]\u001B[0m\u001B[0;34m-\u001B[0m\u001B[0mdataset\u001B[0m\u001B[0;34m[\u001B[0m\u001B[0;34m'26ema'\u001B[0m\u001B[0;34m]\u001B[0m\u001B[0;34m)\u001B[0m\u001B[0;34m\u001B[0m\u001B[0;34m\u001B[0m\u001B[0m\n",
      "\u001B[0;31mAttributeError\u001B[0m: module 'pandas' has no attribute 'ewma'"
     ]
    }
   ],
   "source": [
    "TI_df = get_technical_indicators(btc_df)\n",
    "TI_df.head(20)"
   ]
  },
  {
   "cell_type": "code",
   "execution_count": null,
   "id": "7fa4a96f",
   "metadata": {},
   "outputs": [],
   "source": [
    "# drop Nan and reset index\n",
    "btc_df_nona = btc_df.dropna()\n",
    "# btc_df_nona.reset_index(inplace = True, drop = True)\n",
    "btc_df_nona.head()"
   ]
  },
  {
   "cell_type": "code",
   "execution_count": null,
   "id": "b3ff990f",
   "metadata": {},
   "outputs": [],
   "source": [
    "btc_df_nona.tail()"
   ]
  },
  {
   "cell_type": "code",
   "execution_count": null,
   "id": "a916529d",
   "metadata": {},
   "outputs": [],
   "source": [
    "def plot_technical_indicators(dataset, last_days):\n",
    "    plt.figure(figsize=(16, 12), dpi=100)\n",
    "    shape_0 = dataset.shape[0]\n",
    "    xmacd_ = shape_0-last_days\n",
    "    \n",
    "    dataset = dataset.iloc[-last_days:, :]\n",
    "    x_ = range(3, dataset.shape[0])\n",
    "    x_ =list(dataset.index)\n",
    "#     print(x_)\n",
    "    # Plot first subplot\n",
    "    plt.subplot(2, 1, 1)\n",
    "    plt.plot(dataset['ma7'],label='MA 7', color='g',linestyle='--')\n",
    "    plt.plot(dataset['Close'],label='Closing Price', color='b')\n",
    "    plt.plot(dataset['ma21'],label='MA 21', color='r',linestyle='--')\n",
    "    plt.plot(dataset['upper_band'],label='Upper Band', color='c')\n",
    "    plt.plot(dataset['lower_band'],label='Lower Band', color='c')\n",
    "    plt.fill_between(x_, dataset['lower_band'], dataset['upper_band'], alpha=0.35)\n",
    "    plt.title('Technical indicators for  Bitcoin - last {} days.'.format(last_days))\n",
    "    plt.ylabel('USD')\n",
    "    plt.legend()\n",
    "\n",
    "    # Plot second subplot\n",
    "    print(xmacd_)\n",
    "    plt.subplot(2, 1, 2)\n",
    "    plt.title('MACD')\n",
    "    plt.plot(dataset['MACD'],label='MACD', linestyle='-.')\n",
    "    plt.hlines(max(dataset['MACD']), xmacd_, shape_0, colors='g', linestyles='--')\n",
    "    plt.hlines(min(dataset['MACD']), xmacd_, shape_0, colors='g', linestyles='--')\n",
    "    plt.plot(dataset['log_momentum'],label='Momentum', color='b',linestyle='-')\n",
    "\n",
    "    plt.legend()\n",
    "    plt.show()"
   ]
  },
  {
   "cell_type": "code",
   "execution_count": null,
   "id": "60c9b8f5",
   "metadata": {},
   "outputs": [],
   "source": [
    "plot_technical_indicators(btc_df_nona, 400)"
   ]
  },
  {
   "cell_type": "markdown",
   "id": "d154921b",
   "metadata": {},
   "source": [
    "# Fundamental analysis GET  News about Bitcoin"
   ]
  },
  {
   "cell_type": "code",
   "execution_count": null,
   "id": "e44bf19c",
   "metadata": {},
   "outputs": [],
   "source": [
    "# news_btc = pd.read_csv('../data/BTC_tweets.csv')\n",
    "# news_btc=news_btc.rename(columns={'date': 'Date'})\n",
    "# news_btc=news_btc.set_index('Date')\n",
    "# news_btc = news_btc.sort_index()"
   ]
  },
  {
   "cell_type": "code",
   "execution_count": null,
   "id": "6d760fa8",
   "metadata": {},
   "outputs": [],
   "source": [
    "# news_btc.head()"
   ]
  },
  {
   "cell_type": "code",
   "execution_count": null,
   "id": "6483c760",
   "metadata": {},
   "outputs": [],
   "source": [
    "# news_btc.tail()"
   ]
  },
  {
   "cell_type": "code",
   "execution_count": null,
   "id": "ade6dd72",
   "metadata": {},
   "outputs": [],
   "source": [
    "# news_btc.groupby('Date')"
   ]
  },
  {
   "cell_type": "markdown",
   "id": "b0650087",
   "metadata": {},
   "source": [
    "# Fourier transforms for trend analysis"
   ]
  },
  {
   "cell_type": "code",
   "execution_count": null,
   "id": "5960685f",
   "metadata": {},
   "outputs": [],
   "source": [
    "data_FT = btc_df[['Close']]"
   ]
  },
  {
   "cell_type": "code",
   "execution_count": null,
   "id": "0ccb2162",
   "metadata": {},
   "outputs": [],
   "source": [
    "data_FT.head()"
   ]
  },
  {
   "cell_type": "code",
   "execution_count": null,
   "id": "26002bd5",
   "metadata": {},
   "outputs": [],
   "source": [
    "data_FT['Close'].head()"
   ]
  },
  {
   "cell_type": "code",
   "execution_count": null,
   "id": "4c4da16f",
   "metadata": {},
   "outputs": [],
   "source": [
    "data_FT.tail()"
   ]
  },
  {
   "cell_type": "code",
   "execution_count": null,
   "id": "d8fc2c77",
   "metadata": {},
   "outputs": [],
   "source": [
    "# close_fft = np.fft.fft(np.asarray(data_FT['Close'].tolist()))\n",
    "close_fft = np.fft.fft(np.asarray(data_FT))"
   ]
  },
  {
   "cell_type": "code",
   "execution_count": null,
   "id": "1063edb7",
   "metadata": {},
   "outputs": [],
   "source": [
    "close_fft = np.squeeze(close_fft, 1)\n",
    "print(close_fft)"
   ]
  },
  {
   "cell_type": "code",
   "execution_count": null,
   "id": "f34ac608",
   "metadata": {},
   "outputs": [],
   "source": [
    "fft_df = pd.DataFrame({'fft':close_fft})\n",
    "fft_df['absolute'] = fft_df['fft'].apply(lambda x: np.abs(x))\n",
    "fft_df['angle'] = fft_df['fft'].apply(lambda x: np.angle(x))"
   ]
  },
  {
   "cell_type": "code",
   "execution_count": null,
   "id": "da804f23",
   "metadata": {},
   "outputs": [],
   "source": [
    "fft_df"
   ]
  },
  {
   "cell_type": "code",
   "execution_count": null,
   "id": "f1e127eb",
   "metadata": {},
   "outputs": [],
   "source": [
    "plt.figure(figsize=(14, 7), dpi=100)\n",
    "fft_list = np.asarray(fft_df['fft'].tolist())\n",
    "for num_ in [3, 6, 9, 100]:\n",
    "    fft_list_m10= np.copy(fft_list); fft_list_m10[num_:-num_]=0\n",
    "    plt.plot(np.fft.ifft(fft_list_m10), label='Fourier transform with {} components'.format(num_))\n",
    "plt.plot(data_FT['Close'],  label='Real')\n",
    "plt.xlabel('Days')\n",
    "plt.ylabel('USD')\n",
    "plt.title('Figure 3: Goldman Sachs (close) stock prices & Fourier transforms')\n",
    "plt.legend()\n",
    "plt.show()"
   ]
  },
  {
   "cell_type": "code",
   "execution_count": null,
   "id": "bdad1367",
   "metadata": {},
   "outputs": [],
   "source": [
    "from collections import deque\n",
    "items = deque(np.asarray(fft_df['absolute'].tolist()))\n",
    "items.rotate(int(np.floor(len(fft_df)/2)))\n",
    "plt.figure(figsize=(10, 7), dpi=80)\n",
    "plt.stem(items)\n",
    "plt.title('Figure 4: Components of Fourier transforms')\n",
    "plt.show()"
   ]
  },
  {
   "cell_type": "markdown",
   "id": "32b45269",
   "metadata": {},
   "source": [
    "# ARIMA as a feature"
   ]
  },
  {
   "cell_type": "code",
   "execution_count": null,
   "id": "aa55cd89",
   "metadata": {},
   "outputs": [],
   "source": [
    "data_FT['Close'].head()\n",
    "data_FT.to_csv('../../../Downloads/data_FT.csv',index=False)"
   ]
  },
  {
   "cell_type": "code",
   "execution_count": null,
   "id": "f9cb4f7c",
   "metadata": {},
   "outputs": [],
   "source": [
    "data_FT['Close'].tail()"
   ]
  },
  {
   "cell_type": "code",
   "execution_count": null,
   "id": "cea0a8b2",
   "metadata": {},
   "outputs": [],
   "source": [
    "from statsmodels.tsa.arima.model import ARIMA\n",
    "from pandas import DataFrame\n",
    "from pandas import datetime\n",
    "series = data_FT['Close']\n",
    "series"
   ]
  },
  {
   "cell_type": "code",
   "execution_count": null,
   "id": "08b79e66",
   "metadata": {},
   "outputs": [],
   "source": [
    "model = ARIMA(series, order=(5, 1, 0))\n",
    "model_fit = model.fit()\n",
    "print(model_fit.summary())"
   ]
  },
  {
   "cell_type": "code",
   "execution_count": null,
   "id": "9583063c",
   "metadata": {},
   "outputs": [],
   "source": [
    "from pandas.tools.plotting import autocorrelation_plot\n",
    "autocorrelation_plot(series)\n",
    "plt.figure(figsize=(10, 7), dpi=80)\n",
    "plt.show() "
   ]
  },
  {
   "cell_type": "code",
   "execution_count": null,
   "id": "7f672afa",
   "metadata": {},
   "outputs": [],
   "source": [
    "from pandas import read_csv\n",
    "from pandas import datetime\n",
    "from statsmodels.tsa.arima.model import ARIMA\n",
    "from sklearn.metrics import mean_squared_error\n",
    "\n",
    "\n",
    "\n",
    "series = series.\n",
    "\n",
    "np.isnan(series.any())\n",
    "\n"
   ]
  },
  {
   "cell_type": "code",
   "execution_count": null,
   "id": "15cef14f",
   "metadata": {},
   "outputs": [],
   "source": [
    "X = series.values\n",
    "X"
   ]
  },
  {
   "cell_type": "code",
   "execution_count": null,
   "id": "42cd8de9",
   "metadata": {},
   "outputs": [],
   "source": [
    "size = int(len(X) * 0.66)\n",
    "train, test = X[0:size], X[size:len(X)]\n",
    "history = [x for x in train]\n",
    "predictions = list()\n",
    "for t in range(len(test)):\n",
    "    model = ARIMA(history, order=(5,1,0))\n",
    "    model_fit = model.fit()\n",
    "    output = model_fit.forecast()\n",
    "    yhat = output[0]\n",
    "    predictions.append(yhat)\n",
    "    obs = test[t]\n",
    "    history.append(obs)"
   ]
  },
  {
   "cell_type": "code",
   "execution_count": null,
   "id": "b640473c",
   "metadata": {},
   "outputs": [],
   "source": [
    "type(test)"
   ]
  },
  {
   "cell_type": "code",
   "execution_count": null,
   "id": "58d25f16",
   "metadata": {
    "scrolled": false
   },
   "outputs": [],
   "source": [
    "print(np.any(np.isnan(test)))\n",
    "print(np.all(np.isfinite(test)))\n",
    "print(np.any(np.isnan(predictions)))\n",
    "print(np.all(np.isfinite(predictions)))"
   ]
  },
  {
   "cell_type": "code",
   "execution_count": null,
   "id": "142e22c4",
   "metadata": {},
   "outputs": [],
   "source": [
    "# test.tolist()"
   ]
  },
  {
   "cell_type": "code",
   "execution_count": null,
   "id": "4d6e7d14",
   "metadata": {
    "scrolled": false
   },
   "outputs": [],
   "source": [
    "# predictions"
   ]
  },
  {
   "cell_type": "code",
   "execution_count": null,
   "id": "2b5465b2",
   "metadata": {},
   "outputs": [],
   "source": [
    "t = np.array(test)\n",
    "t = t.astype('int')\n",
    "type(t)"
   ]
  },
  {
   "cell_type": "code",
   "execution_count": null,
   "id": "70db7798",
   "metadata": {},
   "outputs": [],
   "source": [
    "p = np.array(predictions)\n",
    "p = t.astype('int')\n",
    "type(p)"
   ]
  },
  {
   "cell_type": "code",
   "execution_count": null,
   "id": "d758f4fc",
   "metadata": {},
   "outputs": [],
   "source": [
    "# for i in range(len(t)):\n",
    "#     print(t[i],p[i])"
   ]
  },
  {
   "cell_type": "code",
   "execution_count": null,
   "id": "1ee71163",
   "metadata": {},
   "outputs": [],
   "source": [
    "error = mean_squared_error(t, p)\n",
    "print('Test MSE: %.3f' % error)"
   ]
  },
  {
   "cell_type": "code",
   "execution_count": null,
   "id": "20327ac8",
   "metadata": {},
   "outputs": [],
   "source": [
    "plt.figure(figsize=(12, 6), dpi=100)\n",
    "plt.plot(test, label='Real')\n",
    "plt.plot(predictions, color='red', label='Predicted')\n",
    "plt.xlabel('Days')\n",
    "plt.ylabel('USD')\n",
    "plt.title('Figure 5: ARIMA model on GS stock')\n",
    "plt.legend()\n",
    "plt.show()"
   ]
  },
  {
   "cell_type": "markdown",
   "id": "9bbe9f3a",
   "metadata": {},
   "source": [
    "# Statistical checks"
   ]
  },
  {
   "cell_type": "markdown",
   "id": "8965df28",
   "metadata": {},
   "source": [
    "# Feature Engineering"
   ]
  },
  {
   "cell_type": "code",
   "execution_count": null,
   "id": "505b7f17",
   "metadata": {},
   "outputs": [],
   "source": [
    "start = '2015-08-07'\n",
    "end = '2021-05-05'"
   ]
  },
  {
   "cell_type": "code",
   "execution_count": null,
   "id": "6da8daa2",
   "metadata": {},
   "outputs": [],
   "source": [
    "# btc_df_nona  and  btc_df\n",
    "print(\" btc_df :\",len(btc_df),\" btc_df_nona:\",len(btc_df_nona))"
   ]
  },
  {
   "cell_type": "code",
   "execution_count": null,
   "id": "cd0bd401",
   "metadata": {},
   "outputs": [],
   "source": [
    "btc_df.head()"
   ]
  },
  {
   "cell_type": "code",
   "execution_count": null,
   "id": "36c7b34b",
   "metadata": {},
   "outputs": [],
   "source": [
    "btc_df_nona_interval = btc_df_nona[(btc_df_nona['Date'] > start) & (btc_df_nona['Date'] <=end)]\n",
    "btc_df_nona_interval=btc_df_nona_interval.reset_index(drop=True)\n",
    "btc_df_nona_interval.head()"
   ]
  },
  {
   "cell_type": "code",
   "execution_count": null,
   "id": "fc9afb46",
   "metadata": {},
   "outputs": [],
   "source": [
    "btc_df_nona.tail()"
   ]
  },
  {
   "cell_type": "code",
   "execution_count": null,
   "id": "0deba9fa",
   "metadata": {},
   "outputs": [],
   "source": [
    "# feature concat\n",
    "\"\"\"\n",
    "eth_df  ltc_df sp500_df bmc_df bbs_df bnh_df btv_df bpv_df btc_df_nona fft_df\n",
    "\n",
    "2014-10-08 -  2021-05-05\n",
    "eth_df = eth_df[(eth_df['Date'] > '2014-09-17') & (eth_df['Date'] <= '2021-05-05')]\n",
    "\"\"\"\n",
    "# all = pd.concat([],1)"
   ]
  },
  {
   "cell_type": "code",
   "execution_count": null,
   "id": "363b0abe",
   "metadata": {},
   "outputs": [],
   "source": []
  },
  {
   "cell_type": "code",
   "execution_count": null,
   "id": "2b90a8bf",
   "metadata": {},
   "outputs": [],
   "source": [
    "eth_df_interval = eth_df[(eth_df['Date'] > start) & (eth_df['Date'] <=end)]\n",
    "eth_df_interval=eth_df_interval.rename(columns={'Close': 'Close_eth'})"
   ]
  },
  {
   "cell_type": "code",
   "execution_count": null,
   "id": "b57e80ad",
   "metadata": {},
   "outputs": [],
   "source": [
    "eth_df_interval=eth_df_interval.reset_index(drop=True)\n",
    "eth_df_interval.head()"
   ]
  },
  {
   "cell_type": "code",
   "execution_count": null,
   "id": "14920dab",
   "metadata": {},
   "outputs": [],
   "source": [
    "eth_df_interval.tail()"
   ]
  },
  {
   "cell_type": "code",
   "execution_count": null,
   "id": "a009c32b",
   "metadata": {},
   "outputs": [],
   "source": [
    "ltc_df_interval = ltc_df[(ltc_df['Date'] > start) & (ltc_df['Date'] <=end)]\n",
    "ltc_df_interval=ltc_df_interval.rename(columns={'Close': 'Close_ltc'})\n",
    "ltc_df_interval=ltc_df_interval.reset_index(drop=True)\n",
    "ltc_df_interval.head()"
   ]
  },
  {
   "cell_type": "code",
   "execution_count": null,
   "id": "9ad53a51",
   "metadata": {},
   "outputs": [],
   "source": [
    "ltc_df_interval.tail()"
   ]
  },
  {
   "cell_type": "code",
   "execution_count": null,
   "id": "41a370d3",
   "metadata": {},
   "outputs": [],
   "source": [
    "# sp500_df\n",
    "sp500_df_interval = sp500_df[(sp500_df['Date'] > start) & (sp500_df['Date'] <=end)]\n",
    "sp500_df_interval=sp500_df_interval.rename(columns={'Close': 'Close_sp500'})\n",
    "sp500_df_interval=sp500_df_interval.reset_index(drop=True)\n",
    "sp500_df_interval.head()"
   ]
  },
  {
   "cell_type": "code",
   "execution_count": null,
   "id": "37d5fb62",
   "metadata": {},
   "outputs": [],
   "source": [
    "sp500_df_interval.tail()"
   ]
  },
  {
   "cell_type": "code",
   "execution_count": null,
   "id": "3e79f51c",
   "metadata": {},
   "outputs": [],
   "source": [
    "bmc_df_interval = bmc_df[(bmc_df['Date'] > start) & (bmc_df['Date'] <=end)]\n",
    "bmc_df_interval=bmc_df_interval.reset_index(drop=True)\n",
    "bmc_df_interval.head()"
   ]
  },
  {
   "cell_type": "code",
   "execution_count": null,
   "id": "c0564c3c",
   "metadata": {},
   "outputs": [],
   "source": [
    "bmc_df_interval.tail()"
   ]
  },
  {
   "cell_type": "code",
   "execution_count": null,
   "id": "199cd626",
   "metadata": {},
   "outputs": [],
   "source": [
    "bnh_df_interval = bnh_df[(bnh_df['Date'] > start) & (bnh_df['Date'] <=end)]\n",
    "bnh_df_interval=bnh_df_interval.reset_index(drop=True)\n",
    "bnh_df_interval.head()"
   ]
  },
  {
   "cell_type": "code",
   "execution_count": null,
   "id": "ffc33e82",
   "metadata": {},
   "outputs": [],
   "source": [
    "btv_df_interval = btv_df[(btv_df['Date'] > start) & (btv_df['Date'] <=end)]\n",
    "btv_df_interval=btv_df_interval.reset_index(drop=True)\n",
    "btv_df_interval.head()"
   ]
  },
  {
   "cell_type": "code",
   "execution_count": null,
   "id": "214fab8c",
   "metadata": {},
   "outputs": [],
   "source": [
    "bpv_df_interval = bpv_df[(bpv_df['Date'] > start) & (bpv_df['Date'] <=end)]\n",
    "bpv_df_interval=bpv_df_interval.reset_index(drop=True)\n",
    "bpv_df_interval.head()"
   ]
  },
  {
   "cell_type": "code",
   "execution_count": null,
   "id": "c0b43f3e",
   "metadata": {},
   "outputs": [],
   "source": [
    "# fft_df\n",
    "# fft_df_interval = fft_df[(fft_df['Date'] > start) & (fft_df['Date'] <=end)]\n",
    "# fft_df_interval.head()"
   ]
  },
  {
   "cell_type": "code",
   "execution_count": null,
   "id": "4193ff0f",
   "metadata": {},
   "outputs": [],
   "source": []
  }
 ],
 "metadata": {
  "kernelspec": {
   "display_name": "Python 3",
   "language": "python",
   "name": "python3"
  },
  "language_info": {
   "codemirror_mode": {
    "name": "ipython",
    "version": 3
   },
   "file_extension": ".py",
   "mimetype": "text/x-python",
   "name": "python",
   "nbconvert_exporter": "python",
   "pygments_lexer": "ipython3",
   "version": "3.6.13"
  }
 },
 "nbformat": 4,
 "nbformat_minor": 5
}